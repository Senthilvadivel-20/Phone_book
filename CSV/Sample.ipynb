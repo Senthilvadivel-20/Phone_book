{
 "cells": [
  {
   "cell_type": "markdown",
   "id": "989be1fd",
   "metadata": {},
   "source": [
    "# Sample"
   ]
  },
  {
   "cell_type": "code",
   "execution_count": 1,
   "id": "306e2a12",
   "metadata": {},
   "outputs": [],
   "source": [
    "import pandas as pd\n",
    "import numpy as np\n",
    "from datetime import datetime\n",
    "import warnings \n",
    "warnings.filterwarnings('ignore')"
   ]
  },
  {
   "cell_type": "code",
   "execution_count": 7,
   "id": "ebe37001",
   "metadata": {},
   "outputs": [],
   "source": [
    "df=pd.read_excel('dial.xlsx')"
   ]
  },
  {
   "cell_type": "code",
   "execution_count": 8,
   "id": "dbb95667",
   "metadata": {},
   "outputs": [
    {
     "output_type": "execute_result",
     "data": {
      "text/plain": [
       "    Gender         DOB Designation Relationship      Time  S_Time        Day  \\\n",
       "0   Female  27/07/2002     Student       Friend  04:06:00     NaN     Friday   \n",
       "1   Female  27/07/2002     Student       Friend  07:36:00     NaN     Friday   \n",
       "2   Female  27/07/2002     Student       Friend  12:00:00     NaN     Friday   \n",
       "3   Female  27/07/2002     Student     Relation  11:01:00     NaN  Wednesday   \n",
       "4   Female  27/07/2002     Student     Relation  10:06:00     NaN    Tuesday   \n",
       "..     ...         ...         ...          ...       ...     ...        ...   \n",
       "94  Female  27/07/2002     Student    Colleague  20:26:00     NaN  Wednesday   \n",
       "95  Female  27/07/2002     Student     Relation  15:03:00     NaN  Wednesday   \n",
       "96  Female  27/07/2002     Student     Relation  10:33:00     NaN   Saturday   \n",
       "97  Female  27/07/2002     Student      unknown  11:53:00     NaN  Wednesday   \n",
       "98  Female  27/07/2002     Student    Colleague  21:09:00     NaN     Monday   \n",
       "\n",
       "   Holiday Status  \n",
       "0       No    Yes  \n",
       "1       No    Yes  \n",
       "2       No    Yes  \n",
       "3       No    Yes  \n",
       "4       No    Yes  \n",
       "..     ...    ...  \n",
       "94      No    Yes  \n",
       "95      No    Yes  \n",
       "96     Yes    Yes  \n",
       "97      no     No  \n",
       "98      No     No  \n",
       "\n",
       "[99 rows x 9 columns]"
      ],
      "text/html": "<div>\n<style scoped>\n    .dataframe tbody tr th:only-of-type {\n        vertical-align: middle;\n    }\n\n    .dataframe tbody tr th {\n        vertical-align: top;\n    }\n\n    .dataframe thead th {\n        text-align: right;\n    }\n</style>\n<table border=\"1\" class=\"dataframe\">\n  <thead>\n    <tr style=\"text-align: right;\">\n      <th></th>\n      <th>Gender</th>\n      <th>DOB</th>\n      <th>Designation</th>\n      <th>Relationship</th>\n      <th>Time</th>\n      <th>S_Time</th>\n      <th>Day</th>\n      <th>Holiday</th>\n      <th>Status</th>\n    </tr>\n  </thead>\n  <tbody>\n    <tr>\n      <th>0</th>\n      <td>Female</td>\n      <td>27/07/2002</td>\n      <td>Student</td>\n      <td>Friend</td>\n      <td>04:06:00</td>\n      <td>NaN</td>\n      <td>Friday</td>\n      <td>No</td>\n      <td>Yes</td>\n    </tr>\n    <tr>\n      <th>1</th>\n      <td>Female</td>\n      <td>27/07/2002</td>\n      <td>Student</td>\n      <td>Friend</td>\n      <td>07:36:00</td>\n      <td>NaN</td>\n      <td>Friday</td>\n      <td>No</td>\n      <td>Yes</td>\n    </tr>\n    <tr>\n      <th>2</th>\n      <td>Female</td>\n      <td>27/07/2002</td>\n      <td>Student</td>\n      <td>Friend</td>\n      <td>12:00:00</td>\n      <td>NaN</td>\n      <td>Friday</td>\n      <td>No</td>\n      <td>Yes</td>\n    </tr>\n    <tr>\n      <th>3</th>\n      <td>Female</td>\n      <td>27/07/2002</td>\n      <td>Student</td>\n      <td>Relation</td>\n      <td>11:01:00</td>\n      <td>NaN</td>\n      <td>Wednesday</td>\n      <td>No</td>\n      <td>Yes</td>\n    </tr>\n    <tr>\n      <th>4</th>\n      <td>Female</td>\n      <td>27/07/2002</td>\n      <td>Student</td>\n      <td>Relation</td>\n      <td>10:06:00</td>\n      <td>NaN</td>\n      <td>Tuesday</td>\n      <td>No</td>\n      <td>Yes</td>\n    </tr>\n    <tr>\n      <th>...</th>\n      <td>...</td>\n      <td>...</td>\n      <td>...</td>\n      <td>...</td>\n      <td>...</td>\n      <td>...</td>\n      <td>...</td>\n      <td>...</td>\n      <td>...</td>\n    </tr>\n    <tr>\n      <th>94</th>\n      <td>Female</td>\n      <td>27/07/2002</td>\n      <td>Student</td>\n      <td>Colleague</td>\n      <td>20:26:00</td>\n      <td>NaN</td>\n      <td>Wednesday</td>\n      <td>No</td>\n      <td>Yes</td>\n    </tr>\n    <tr>\n      <th>95</th>\n      <td>Female</td>\n      <td>27/07/2002</td>\n      <td>Student</td>\n      <td>Relation</td>\n      <td>15:03:00</td>\n      <td>NaN</td>\n      <td>Wednesday</td>\n      <td>No</td>\n      <td>Yes</td>\n    </tr>\n    <tr>\n      <th>96</th>\n      <td>Female</td>\n      <td>27/07/2002</td>\n      <td>Student</td>\n      <td>Relation</td>\n      <td>10:33:00</td>\n      <td>NaN</td>\n      <td>Saturday</td>\n      <td>Yes</td>\n      <td>Yes</td>\n    </tr>\n    <tr>\n      <th>97</th>\n      <td>Female</td>\n      <td>27/07/2002</td>\n      <td>Student</td>\n      <td>unknown</td>\n      <td>11:53:00</td>\n      <td>NaN</td>\n      <td>Wednesday</td>\n      <td>no</td>\n      <td>No</td>\n    </tr>\n    <tr>\n      <th>98</th>\n      <td>Female</td>\n      <td>27/07/2002</td>\n      <td>Student</td>\n      <td>Colleague</td>\n      <td>21:09:00</td>\n      <td>NaN</td>\n      <td>Monday</td>\n      <td>No</td>\n      <td>No</td>\n    </tr>\n  </tbody>\n</table>\n<p>99 rows × 9 columns</p>\n</div>"
     },
     "metadata": {},
     "execution_count": 8
    }
   ],
   "source": [
    "df"
   ]
  },
  {
   "cell_type": "code",
   "execution_count": null,
   "id": "144f4818",
   "metadata": {},
   "outputs": [],
   "source": []
  },
  {
   "cell_type": "code",
   "execution_count": 9,
   "id": "871d0d64",
   "metadata": {},
   "outputs": [],
   "source": [
    "j=0\n",
    "for i in df['Time']:\n",
    "    i=str(i)\n",
    "    df['S_Time'].iloc[j]='20/12/2001 '+i\n",
    "    j+=1"
   ]
  },
  {
   "cell_type": "code",
   "execution_count": 10,
   "id": "d5d0bf6a",
   "metadata": {},
   "outputs": [],
   "source": [
    "df['S_Time']=pd.to_datetime(df['S_Time'])"
   ]
  },
  {
   "cell_type": "code",
   "execution_count": 11,
   "id": "cafad9d1",
   "metadata": {},
   "outputs": [],
   "source": [
    "df['hour']=df['S_Time'].dt.hour\n",
    "df['minute']=df['S_Time'].dt.minute"
   ]
  },
  {
   "cell_type": "code",
   "execution_count": 1,
   "id": "6421c5da",
   "metadata": {},
   "outputs": [],
   "source": [
    "from datetime import datetime\n"
   ]
  },
  {
   "cell_type": "code",
   "execution_count": null,
   "id": "b134ff85",
   "metadata": {},
   "outputs": [],
   "source": []
  },
  {
   "cell_type": "code",
   "execution_count": 8,
   "id": "fc212207",
   "metadata": {},
   "outputs": [],
   "source": [
    "df['DOB']=pd.to_datetime(df['DOB'])"
   ]
  },
  {
   "cell_type": "code",
   "execution_count": 9,
   "id": "dc164292",
   "metadata": {},
   "outputs": [],
   "source": [
    "to_day=date.today()\n",
    "today=pd.to_datetime(to_day)"
   ]
  },
  {
   "cell_type": "code",
   "execution_count": 10,
   "id": "5e4f1330",
   "metadata": {},
   "outputs": [],
   "source": [
    "df.insert(2,'Age',0)"
   ]
  },
  {
   "cell_type": "code",
   "execution_count": 11,
   "id": "c219c9af",
   "metadata": {},
   "outputs": [],
   "source": [
    "for i in range(len(df['DOB'])):\n",
    "    born=df['DOB'].iloc[i]\n",
    "    age=today.year - born.year - ((today.month, today.day) < (born.month, born.day))\n",
    "    df.loc[i,'Age']=age"
   ]
  },
  {
   "cell_type": "code",
   "execution_count": 12,
   "id": "91c8407b",
   "metadata": {},
   "outputs": [],
   "source": [
    "#born=df['DOB'].iloc[i]\n",
    "#today.year - born.year - ((today.month, today.day) < (born.month, born.day))"
   ]
  },
  {
   "cell_type": "code",
   "execution_count": null,
   "id": "c977f826",
   "metadata": {},
   "outputs": [],
   "source": []
  },
  {
   "cell_type": "code",
   "execution_count": 13,
   "id": "9940e1f1",
   "metadata": {},
   "outputs": [
    {
     "data": {
      "text/html": [
       "<div>\n",
       "<style scoped>\n",
       "    .dataframe tbody tr th:only-of-type {\n",
       "        vertical-align: middle;\n",
       "    }\n",
       "\n",
       "    .dataframe tbody tr th {\n",
       "        vertical-align: top;\n",
       "    }\n",
       "\n",
       "    .dataframe thead th {\n",
       "        text-align: right;\n",
       "    }\n",
       "</style>\n",
       "<table border=\"1\" class=\"dataframe\">\n",
       "  <thead>\n",
       "    <tr style=\"text-align: right;\">\n",
       "      <th></th>\n",
       "      <th>Gender</th>\n",
       "      <th>DOB</th>\n",
       "      <th>Age</th>\n",
       "      <th>Designation</th>\n",
       "      <th>Relationship</th>\n",
       "      <th>Time</th>\n",
       "      <th>S_Time</th>\n",
       "      <th>Day</th>\n",
       "      <th>Holiday</th>\n",
       "      <th>Status</th>\n",
       "      <th>hour</th>\n",
       "      <th>minute</th>\n",
       "    </tr>\n",
       "  </thead>\n",
       "  <tbody>\n",
       "    <tr>\n",
       "      <th>0</th>\n",
       "      <td>FEMALE</td>\n",
       "      <td>2002-07-27</td>\n",
       "      <td>18</td>\n",
       "      <td>STUDENT</td>\n",
       "      <td>Friends</td>\n",
       "      <td>04:06:00</td>\n",
       "      <td>2001-12-20 04:06:00</td>\n",
       "      <td>Friday</td>\n",
       "      <td>No</td>\n",
       "      <td>Yes</td>\n",
       "      <td>4</td>\n",
       "      <td>6</td>\n",
       "    </tr>\n",
       "    <tr>\n",
       "      <th>1</th>\n",
       "      <td>FEMALE</td>\n",
       "      <td>2002-07-27</td>\n",
       "      <td>18</td>\n",
       "      <td>STUDENT</td>\n",
       "      <td>Friends</td>\n",
       "      <td>07:36:00</td>\n",
       "      <td>2001-12-20 07:36:00</td>\n",
       "      <td>Friday</td>\n",
       "      <td>No</td>\n",
       "      <td>Yes</td>\n",
       "      <td>7</td>\n",
       "      <td>36</td>\n",
       "    </tr>\n",
       "    <tr>\n",
       "      <th>2</th>\n",
       "      <td>FEMALE</td>\n",
       "      <td>2002-07-27</td>\n",
       "      <td>18</td>\n",
       "      <td>STUDENT</td>\n",
       "      <td>Friends</td>\n",
       "      <td>12:00:00</td>\n",
       "      <td>2001-12-20 12:00:00</td>\n",
       "      <td>Friday</td>\n",
       "      <td>No</td>\n",
       "      <td>Yes</td>\n",
       "      <td>12</td>\n",
       "      <td>0</td>\n",
       "    </tr>\n",
       "    <tr>\n",
       "      <th>3</th>\n",
       "      <td>FEMALE</td>\n",
       "      <td>2002-07-27</td>\n",
       "      <td>18</td>\n",
       "      <td>STUDENT</td>\n",
       "      <td>Relation</td>\n",
       "      <td>11:01:00</td>\n",
       "      <td>2001-12-20 11:01:00</td>\n",
       "      <td>Wednesday</td>\n",
       "      <td>No</td>\n",
       "      <td>Yes</td>\n",
       "      <td>11</td>\n",
       "      <td>1</td>\n",
       "    </tr>\n",
       "    <tr>\n",
       "      <th>4</th>\n",
       "      <td>FEMALE</td>\n",
       "      <td>2002-07-27</td>\n",
       "      <td>18</td>\n",
       "      <td>STUDENT</td>\n",
       "      <td>Relation</td>\n",
       "      <td>10:06:00</td>\n",
       "      <td>2001-12-20 10:06:00</td>\n",
       "      <td>Tuesday</td>\n",
       "      <td>No</td>\n",
       "      <td>Yes</td>\n",
       "      <td>10</td>\n",
       "      <td>6</td>\n",
       "    </tr>\n",
       "    <tr>\n",
       "      <th>...</th>\n",
       "      <td>...</td>\n",
       "      <td>...</td>\n",
       "      <td>...</td>\n",
       "      <td>...</td>\n",
       "      <td>...</td>\n",
       "      <td>...</td>\n",
       "      <td>...</td>\n",
       "      <td>...</td>\n",
       "      <td>...</td>\n",
       "      <td>...</td>\n",
       "      <td>...</td>\n",
       "      <td>...</td>\n",
       "    </tr>\n",
       "    <tr>\n",
       "      <th>94</th>\n",
       "      <td>FEMALE</td>\n",
       "      <td>2002-07-27</td>\n",
       "      <td>18</td>\n",
       "      <td>STUDENT</td>\n",
       "      <td>Colleague</td>\n",
       "      <td>20:26:00</td>\n",
       "      <td>2001-12-20 20:26:00</td>\n",
       "      <td>Wednesday</td>\n",
       "      <td>No</td>\n",
       "      <td>Yes</td>\n",
       "      <td>20</td>\n",
       "      <td>26</td>\n",
       "    </tr>\n",
       "    <tr>\n",
       "      <th>95</th>\n",
       "      <td>FEMALE</td>\n",
       "      <td>2002-07-27</td>\n",
       "      <td>18</td>\n",
       "      <td>STUDENT</td>\n",
       "      <td>Relation</td>\n",
       "      <td>15:03:00</td>\n",
       "      <td>2001-12-20 15:03:00</td>\n",
       "      <td>Wednesday</td>\n",
       "      <td>No</td>\n",
       "      <td>Yes</td>\n",
       "      <td>15</td>\n",
       "      <td>3</td>\n",
       "    </tr>\n",
       "    <tr>\n",
       "      <th>96</th>\n",
       "      <td>FEMALE</td>\n",
       "      <td>2002-07-27</td>\n",
       "      <td>18</td>\n",
       "      <td>STUDENT</td>\n",
       "      <td>Relation</td>\n",
       "      <td>10:33:00</td>\n",
       "      <td>2001-12-20 10:33:00</td>\n",
       "      <td>Saturday</td>\n",
       "      <td>Yes</td>\n",
       "      <td>Yes</td>\n",
       "      <td>10</td>\n",
       "      <td>33</td>\n",
       "    </tr>\n",
       "    <tr>\n",
       "      <th>97</th>\n",
       "      <td>FEMALE</td>\n",
       "      <td>2002-07-27</td>\n",
       "      <td>18</td>\n",
       "      <td>STUDENT</td>\n",
       "      <td>unknown</td>\n",
       "      <td>11:53:00</td>\n",
       "      <td>2001-12-20 11:53:00</td>\n",
       "      <td>Wednesday</td>\n",
       "      <td>no</td>\n",
       "      <td>No</td>\n",
       "      <td>11</td>\n",
       "      <td>53</td>\n",
       "    </tr>\n",
       "    <tr>\n",
       "      <th>98</th>\n",
       "      <td>FEMALE</td>\n",
       "      <td>2002-07-27</td>\n",
       "      <td>18</td>\n",
       "      <td>STUDENT</td>\n",
       "      <td>Colleague</td>\n",
       "      <td>21:09:00</td>\n",
       "      <td>2001-12-20 21:09:00</td>\n",
       "      <td>Monday</td>\n",
       "      <td>No</td>\n",
       "      <td>No</td>\n",
       "      <td>21</td>\n",
       "      <td>9</td>\n",
       "    </tr>\n",
       "  </tbody>\n",
       "</table>\n",
       "<p>99 rows × 12 columns</p>\n",
       "</div>"
      ],
      "text/plain": [
       "    Gender        DOB  Age Designation Relationship      Time  \\\n",
       "0   FEMALE 2002-07-27   18     STUDENT      Friends  04:06:00   \n",
       "1   FEMALE 2002-07-27   18     STUDENT      Friends  07:36:00   \n",
       "2   FEMALE 2002-07-27   18     STUDENT      Friends  12:00:00   \n",
       "3   FEMALE 2002-07-27   18     STUDENT     Relation  11:01:00   \n",
       "4   FEMALE 2002-07-27   18     STUDENT     Relation  10:06:00   \n",
       "..     ...        ...  ...         ...          ...       ...   \n",
       "94  FEMALE 2002-07-27   18     STUDENT    Colleague  20:26:00   \n",
       "95  FEMALE 2002-07-27   18     STUDENT     Relation  15:03:00   \n",
       "96  FEMALE 2002-07-27   18     STUDENT     Relation  10:33:00   \n",
       "97  FEMALE 2002-07-27   18     STUDENT      unknown  11:53:00   \n",
       "98  FEMALE 2002-07-27   18     STUDENT    Colleague  21:09:00   \n",
       "\n",
       "                S_Time        Day Holiday Status  hour  minute  \n",
       "0  2001-12-20 04:06:00     Friday      No    Yes     4       6  \n",
       "1  2001-12-20 07:36:00     Friday      No    Yes     7      36  \n",
       "2  2001-12-20 12:00:00     Friday      No    Yes    12       0  \n",
       "3  2001-12-20 11:01:00  Wednesday      No    Yes    11       1  \n",
       "4  2001-12-20 10:06:00    Tuesday      No    Yes    10       6  \n",
       "..                 ...        ...     ...    ...   ...     ...  \n",
       "94 2001-12-20 20:26:00  Wednesday      No    Yes    20      26  \n",
       "95 2001-12-20 15:03:00  Wednesday      No    Yes    15       3  \n",
       "96 2001-12-20 10:33:00   Saturday     Yes    Yes    10      33  \n",
       "97 2001-12-20 11:53:00  Wednesday      no     No    11      53  \n",
       "98 2001-12-20 21:09:00     Monday      No     No    21       9  \n",
       "\n",
       "[99 rows x 12 columns]"
      ]
     },
     "execution_count": 13,
     "metadata": {},
     "output_type": "execute_result"
    }
   ],
   "source": [
    "df"
   ]
  },
  {
   "cell_type": "code",
   "execution_count": 14,
   "id": "8482dcf1",
   "metadata": {},
   "outputs": [],
   "source": [
    "from sklearn.preprocessing import LabelEncoder"
   ]
  },
  {
   "cell_type": "code",
   "execution_count": 15,
   "id": "b9b45507",
   "metadata": {},
   "outputs": [],
   "source": [
    "status_encoder=LabelEncoder()\n",
    "\n",
    "gender_encoder=LabelEncoder()\n",
    "designation_encoder=LabelEncoder()\n",
    "relationship_encoder=LabelEncoder()\n",
    "day_encoder=LabelEncoder()\n",
    "holiday_encoder=LabelEncoder()"
   ]
  },
  {
   "cell_type": "code",
   "execution_count": 16,
   "id": "12b2b42c",
   "metadata": {},
   "outputs": [],
   "source": [
    "df['Status']=status_encoder.fit_transform(df['Status'])\n",
    "\n",
    "df['Gender']=gender_encoder.fit_transform(df['Gender'])\n",
    "df['Designation']=designation_encoder.fit_transform(df['Designation'])\n",
    "df['Relationship']=relationship_encoder.fit_transform(df['Relationship'])\n",
    "df['Day']=day_encoder.fit_transform(df['Day'])\n",
    "df['Holiday']=holiday_encoder.fit_transform(df['Holiday'])"
   ]
  },
  {
   "cell_type": "code",
   "execution_count": 17,
   "id": "0773648e",
   "metadata": {},
   "outputs": [
    {
     "data": {
      "text/plain": [
       "Index(['Gender', 'DOB', 'Age', 'Designation', 'Relationship', 'Time', 'S_Time',\n",
       "       'Day', 'Holiday', 'Status', 'hour', 'minute'],\n",
       "      dtype='object')"
      ]
     },
     "execution_count": 17,
     "metadata": {},
     "output_type": "execute_result"
    }
   ],
   "source": [
    "df.columns"
   ]
  },
  {
   "cell_type": "code",
   "execution_count": 18,
   "id": "cb0d6845",
   "metadata": {},
   "outputs": [],
   "source": [
    "x=df[['Gender','Age', 'Designation', 'Relationship','Day', 'Holiday','hour', 'minute']]\n",
    "y=df['Status']"
   ]
  },
  {
   "cell_type": "code",
   "execution_count": 19,
   "id": "95792ad5",
   "metadata": {},
   "outputs": [],
   "source": [
    "from sklearn.model_selection import train_test_split"
   ]
  },
  {
   "cell_type": "code",
   "execution_count": 20,
   "id": "0f15ae84",
   "metadata": {},
   "outputs": [],
   "source": [
    "x_train,x_test,y_train,y_test=train_test_split(x,y,test_size=0.2)"
   ]
  },
  {
   "cell_type": "code",
   "execution_count": null,
   "id": "275d4be8",
   "metadata": {},
   "outputs": [],
   "source": []
  },
  {
   "cell_type": "code",
   "execution_count": null,
   "id": "6dc1fdb0",
   "metadata": {},
   "outputs": [],
   "source": []
  },
  {
   "cell_type": "code",
   "execution_count": 21,
   "id": "4b11c852",
   "metadata": {},
   "outputs": [],
   "source": [
    "from sklearn.neighbors import KNeighborsClassifier"
   ]
  },
  {
   "cell_type": "code",
   "execution_count": 22,
   "id": "92866077",
   "metadata": {},
   "outputs": [],
   "source": [
    "knn=KNeighborsClassifier(n_neighbors=2)\n"
   ]
  },
  {
   "cell_type": "code",
   "execution_count": 23,
   "id": "c5658b98",
   "metadata": {},
   "outputs": [
    {
     "data": {
      "text/plain": [
       "KNeighborsClassifier(n_neighbors=2)"
      ]
     },
     "execution_count": 23,
     "metadata": {},
     "output_type": "execute_result"
    }
   ],
   "source": [
    "knn.fit(x_train,y_train)"
   ]
  },
  {
   "cell_type": "code",
   "execution_count": 36,
   "id": "830806c2",
   "metadata": {},
   "outputs": [
    {
     "name": "stdout",
     "output_type": "stream",
     "text": [
      "Enter Gender : FEMALE\n",
      "Enter your Age :19\n",
      "Enter your designation :STUDENT\n",
      "Enter Relationship :Friends\n",
      "Enter day :Friday\n",
      "Enter is today Holiday :No\n"
     ]
    }
   ],
   "source": [
    "gender=gender_encoder.transform([input(\"Enter Gender : \")])[0]\n",
    "age=int(input('Enter your Age :'))\n",
    "designation=designation_encoder.transform([(input('Enter your designation :'))])[0]\n",
    "relationship=relationship_encoder.transform([input('Enter Relationship :')])[0]\n",
    "day=day_encoder.transform([input('Enter day :')])[0]\n",
    "holiday=holiday_encoder.transform([input('Enter is today Holiday :')])\n",
    "hour=datetime.now().hour\n",
    "minute=datetime.now().minute"
   ]
  },
  {
   "cell_type": "code",
   "execution_count": 37,
   "id": "a8e87449",
   "metadata": {},
   "outputs": [
    {
     "data": {
      "text/plain": [
       "[[0, 19, 0, 1, 0, 0, 20, 56]]"
      ]
     },
     "execution_count": 37,
     "metadata": {},
     "output_type": "execute_result"
    }
   ],
   "source": [
    "inp=[[gender,age,designation,relationship,day,holiday[0],hour,minute]]\n",
    "inp"
   ]
  },
  {
   "cell_type": "code",
   "execution_count": 38,
   "id": "5c47ab6b",
   "metadata": {},
   "outputs": [
    {
     "name": "stdout",
     "output_type": "stream",
     "text": [
      "Is the person can take this call ? No\n"
     ]
    }
   ],
   "source": [
    "status=knn.predict(inp)[0]\n",
    "react=status_encoder.inverse_transform([status])[0]\n",
    "print('Is the person can take this call ?',react)"
   ]
  },
  {
   "cell_type": "code",
   "execution_count": 40,
   "id": "46a351d9",
   "metadata": {},
   "outputs": [
    {
     "name": "stdout",
     "output_type": "stream",
     "text": [
      "50.0\n"
     ]
    }
   ],
   "source": [
    "print(knn.score(x_test,y_test)*100)"
   ]
  },
  {
   "cell_type": "code",
   "execution_count": null,
   "id": "40f853f8",
   "metadata": {},
   "outputs": [],
   "source": []
  },
  {
   "cell_type": "code",
   "execution_count": 41,
   "id": "7c6cbd16",
   "metadata": {},
   "outputs": [],
   "source": [
    "from sklearn.tree import DecisionTreeRegressor"
   ]
  },
  {
   "cell_type": "code",
   "execution_count": 42,
   "id": "d60854f0",
   "metadata": {},
   "outputs": [],
   "source": [
    "dtr = DecisionTreeRegressor()"
   ]
  },
  {
   "cell_type": "code",
   "execution_count": 43,
   "id": "7ef98f93",
   "metadata": {},
   "outputs": [
    {
     "data": {
      "text/plain": [
       "DecisionTreeRegressor()"
      ]
     },
     "execution_count": 43,
     "metadata": {},
     "output_type": "execute_result"
    }
   ],
   "source": [
    "dtr.fit(x_train,y_train)"
   ]
  },
  {
   "cell_type": "code",
   "execution_count": 44,
   "id": "eb6f3dff",
   "metadata": {},
   "outputs": [
    {
     "data": {
      "text/plain": [
       "1.0"
      ]
     },
     "execution_count": 44,
     "metadata": {},
     "output_type": "execute_result"
    }
   ],
   "source": [
    "dtr.predict(inp)[0]"
   ]
  },
  {
   "cell_type": "code",
   "execution_count": 46,
   "id": "52ff1f61",
   "metadata": {},
   "outputs": [
    {
     "data": {
      "text/plain": [
       "-61.61616161616161"
      ]
     },
     "execution_count": 46,
     "metadata": {},
     "output_type": "execute_result"
    }
   ],
   "source": [
    "dtr.score(x_test,y_test)*100"
   ]
  },
  {
   "cell_type": "code",
   "execution_count": null,
   "id": "6af2d04d",
   "metadata": {},
   "outputs": [],
   "source": []
  },
  {
   "cell_type": "code",
   "execution_count": null,
   "id": "072b1322",
   "metadata": {},
   "outputs": [],
   "source": []
  },
  {
   "cell_type": "code",
   "execution_count": 48,
   "id": "bd1c6249",
   "metadata": {},
   "outputs": [
    {
     "data": {
      "text/plain": [
       "DecisionTreeClassifier(random_state=42)"
      ]
     },
     "execution_count": 48,
     "metadata": {},
     "output_type": "execute_result"
    }
   ],
   "source": [
    "from sklearn.tree import DecisionTreeClassifier\n",
    "\n",
    "# Make a decision tree and train\n",
    "tree = DecisionTreeClassifier(random_state=42)\n",
    "tree.fit(x_train,y_train)"
   ]
  },
  {
   "cell_type": "code",
   "execution_count": 50,
   "id": "41081df4",
   "metadata": {},
   "outputs": [
    {
     "data": {
      "text/plain": [
       "1"
      ]
     },
     "execution_count": 50,
     "metadata": {},
     "output_type": "execute_result"
    }
   ],
   "source": [
    "tree.predict(inp)[0]"
   ]
  },
  {
   "cell_type": "code",
   "execution_count": 52,
   "id": "f8c1ed81",
   "metadata": {},
   "outputs": [
    {
     "data": {
      "text/plain": [
       "65.0"
      ]
     },
     "execution_count": 52,
     "metadata": {},
     "output_type": "execute_result"
    }
   ],
   "source": [
    "tree.score(x_test,y_test)*100"
   ]
  },
  {
   "cell_type": "code",
   "execution_count": null,
   "id": "6ca8a6b1",
   "metadata": {},
   "outputs": [],
   "source": []
  },
  {
   "cell_type": "code",
   "execution_count": null,
   "metadata": {},
   "outputs": [],
   "source": []
  },
  {
   "cell_type": "code",
   "execution_count": 1,
   "metadata": {},
   "outputs": [],
   "source": [
    "import pandas as pd"
   ]
  },
  {
   "cell_type": "code",
   "execution_count": 39,
   "metadata": {},
   "outputs": [],
   "source": [
    "da=pd.read_excel('saved.xlsx')"
   ]
  },
  {
   "cell_type": "code",
   "execution_count": 40,
   "metadata": {},
   "outputs": [
    {
     "output_type": "execute_result",
     "data": {
      "text/plain": [
       "   Unnamed: 0              Name Nick_name  Phone_number Gender        DOB  \\\n",
       "0           0           Senthil       Sen    9944855452   Male 2001-12-20   \n",
       "1           1  Senthilvadivel S   senthil    9750036138   Male 2001-12-20   \n",
       "\n",
       "  Designation   Relation  \n",
       "0     Student     Friend  \n",
       "1     Student  Colleague  "
      ],
      "text/html": "<div>\n<style scoped>\n    .dataframe tbody tr th:only-of-type {\n        vertical-align: middle;\n    }\n\n    .dataframe tbody tr th {\n        vertical-align: top;\n    }\n\n    .dataframe thead th {\n        text-align: right;\n    }\n</style>\n<table border=\"1\" class=\"dataframe\">\n  <thead>\n    <tr style=\"text-align: right;\">\n      <th></th>\n      <th>Unnamed: 0</th>\n      <th>Name</th>\n      <th>Nick_name</th>\n      <th>Phone_number</th>\n      <th>Gender</th>\n      <th>DOB</th>\n      <th>Designation</th>\n      <th>Relation</th>\n    </tr>\n  </thead>\n  <tbody>\n    <tr>\n      <th>0</th>\n      <td>0</td>\n      <td>Senthil</td>\n      <td>Sen</td>\n      <td>9944855452</td>\n      <td>Male</td>\n      <td>2001-12-20</td>\n      <td>Student</td>\n      <td>Friend</td>\n    </tr>\n    <tr>\n      <th>1</th>\n      <td>1</td>\n      <td>Senthilvadivel S</td>\n      <td>senthil</td>\n      <td>9750036138</td>\n      <td>Male</td>\n      <td>2001-12-20</td>\n      <td>Student</td>\n      <td>Colleague</td>\n    </tr>\n  </tbody>\n</table>\n</div>"
     },
     "metadata": {},
     "execution_count": 40
    }
   ],
   "source": [
    "da"
   ]
  },
  {
   "cell_type": "code",
   "execution_count": 41,
   "metadata": {},
   "outputs": [],
   "source": [
    "inputt='Senthilvadivel S'"
   ]
  },
  {
   "cell_type": "code",
   "execution_count": 52,
   "metadata": {},
   "outputs": [],
   "source": [
    "try:\n",
    "    idx=da[da['Name']==inputt].index.values[0]\n",
    "    statement=True\n",
    "except IndexError:\n",
    "    statement=False\n",
    "    "
   ]
  },
  {
   "cell_type": "code",
   "execution_count": 53,
   "metadata": {},
   "outputs": [
    {
     "output_type": "stream",
     "name": "stdout",
     "text": [
      "Senthilvadivel S senthil 9750036138 Male 20 Colleague\n"
     ]
    }
   ],
   "source": [
    "if statement:\n",
    "    name=da.loc[idx,'Name']\n",
    "    nick_name=da.loc[idx,'Nick_name']\n",
    "    phone_number=da.loc[idx,'Phone_number']\n",
    "    gender=da.loc[idx,'Gender']\n",
    "    age=dob(da.loc[idx,'DOB'])\n",
    "    relation=da.loc[idx,'Relation']\n",
    "    print(name,nick_name,phone_number,gender,age,relation)\n",
    "else:\n",
    "    print('You contact unknow person')\n"
   ]
  },
  {
   "cell_type": "code",
   "execution_count": 54,
   "metadata": {},
   "outputs": [],
   "source": [
    "from datetime import datetime"
   ]
  },
  {
   "cell_type": "code",
   "execution_count": 55,
   "metadata": {},
   "outputs": [],
   "source": [
    "today=datetime.today().year\n",
    "date=da.loc[idx,'DOB'].year"
   ]
  },
  {
   "cell_type": "code",
   "execution_count": 56,
   "metadata": {},
   "outputs": [
    {
     "output_type": "execute_result",
     "data": {
      "text/plain": [
       "\"\\nfor i in range(len(df['DOB'])):\\n    born=da['DOB'].iloc[i]\\n    age=today.year - born.year - ((today.month, today.day) < (born.month, born.day))\\n    d.loc[i,'Age']=age\\n\\n\""
      ]
     },
     "metadata": {},
     "execution_count": 56
    }
   ],
   "source": [
    "'''\n",
    "for i in range(len(df['DOB'])):\n",
    "    born=da['DOB'].iloc[i]\n",
    "    age=today.year - born.year - ((today.month, today.day) < (born.month, born.day))\n",
    "    d.loc[i,'Age']=age\n",
    "\n",
    "'''"
   ]
  },
  {
   "cell_type": "code",
   "execution_count": 57,
   "metadata": {},
   "outputs": [],
   "source": [
    "\n",
    "def dob(born):\n",
    "    from datetime import datetime\n",
    "    today=datetime.today()\n",
    "    age=today.year-born.year-((today.month,today.day)>(born.month,born.today))\n",
    "    return age\n",
    "\n"
   ]
  },
  {
   "cell_type": "code",
   "execution_count": 58,
   "metadata": {},
   "outputs": [],
   "source": [
    "from datetime import datetime,date"
   ]
  },
  {
   "cell_type": "code",
   "execution_count": 59,
   "metadata": {},
   "outputs": [
    {
     "output_type": "execute_result",
     "data": {
      "text/plain": [
       "6"
      ]
     },
     "metadata": {},
     "execution_count": 59
    }
   ],
   "source": [
    "date.today().isoweekday()"
   ]
  },
  {
   "cell_type": "code",
   "execution_count": 60,
   "metadata": {},
   "outputs": [],
   "source": [
    "def day():\n",
    "    day=date.today().isoweekday()\n",
    "    if day==1:\n",
    "        day='Monday'\n",
    "    elif day==2:\n",
    "        day='Tuesday'\n",
    "    elif day==3:\n",
    "        day='Wednesday'\n",
    "    elif day==4:\n",
    "        day='Thursday'\n",
    "    elif day==5:\n",
    "        day='Friday'\n",
    "    elif day==6:\n",
    "        day='Saturday'\n",
    "    elif day==7:\n",
    "        day='sunday'\n",
    "    return day\n"
   ]
  },
  {
   "cell_type": "code",
   "execution_count": 61,
   "metadata": {},
   "outputs": [
    {
     "output_type": "stream",
     "name": "stdout",
     "text": [
      "None\n"
     ]
    }
   ],
   "source": [
    "from datetime import date\n",
    "import pandas as pd\n",
    "holiday=pd.read_excel('gov_holidays.xlsx')\n",
    "\n",
    "def day():\n",
    "    day=date.today().isoweekday()\n",
    "    if day==1:\n",
    "        day='Monday'\n",
    "    elif day==2:\n",
    "        day='Tuesday'\n",
    "    elif day==3:\n",
    "        day='Wednesday'\n",
    "    elif day==4:\n",
    "        day='Thursday'\n",
    "    elif day==5:\n",
    "        day='Friday'\n",
    "    elif day==6:\n",
    "        day='Saturday'\n",
    "    elif day==7:\n",
    "        day='sunday'\n",
    "    return day\n",
    "\n",
    "day=day()\n",
    "\n",
    "holiday_list=[]\n",
    "for i in range(len(holiday)):\n",
    "    holiday_list.append(holiday['DATE'].iloc[i].date())\n",
    "\n",
    "def check_holiday():\n",
    "    if day=='Sunday':\n",
    "        return 'Yes'\n",
    "    elif date.today() in holiday_list:\n",
    "        return 'No'\n",
    "print(check_holiday())\n"
   ]
  },
  {
   "cell_type": "code",
   "execution_count": 62,
   "metadata": {},
   "outputs": [
    {
     "output_type": "stream",
     "name": "stdout",
     "text": [
      "No\n"
     ]
    }
   ],
   "source": [
    "def check_holiday():\n",
    "    if day=='Sunday':\n",
    "        statun='Yes'\n",
    "    elif date.today() in holiday_list:\n",
    "        status='Yes'\n",
    "    else:\n",
    "        status='No'\n",
    "    return status\n",
    "print(check_holiday())"
   ]
  },
  {
   "cell_type": "code",
   "execution_count": 68,
   "metadata": {},
   "outputs": [],
   "source": [
    "name=da.loc[idx,'Name']\n",
    "nick_name=da.loc[idx,'Nick_name']\n",
    "phone_number=da.loc[idx,'Phone_number']\n",
    "gender=da.loc[idx,'Gender']\n",
    "age=dob(da.loc[idx,'DOB'])\n",
    "relation=da.loc[idx,'Relation']\n",
    "designation=da.loc[idx,'Designation']\n",
    "#day=day()\n",
    "holiday=check_holiday()\n",
    "hour=datetime.now().hour\n",
    "minute=datetime.now().minute\n",
    "details=(name,nick_name,phone_number,gender,age,designation,relation,holiday,hour,minute)\n"
   ]
  },
  {
   "cell_type": "code",
   "execution_count": 70,
   "metadata": {},
   "outputs": [],
   "source": [
    "name,nick_name,phone_number,gender,age,designation,relation,holiday,hour,minute=details"
   ]
  },
  {
   "cell_type": "code",
   "execution_count": 71,
   "metadata": {},
   "outputs": [
    {
     "output_type": "execute_result",
     "data": {
      "text/plain": [
       "'Student'"
      ]
     },
     "metadata": {},
     "execution_count": 71
    }
   ],
   "source": [
    "designation"
   ]
  },
  {
   "cell_type": "code",
   "execution_count": 26,
   "metadata": {},
   "outputs": [],
   "source": [
    "holiday_list=[]\n",
    "for i in range(len(holiday)):\n",
    "    holiday_list.append(holiday['DATE'].iloc[i].date())"
   ]
  },
  {
   "cell_type": "code",
   "execution_count": 28,
   "metadata": {},
   "outputs": [
    {
     "output_type": "execute_result",
     "data": {
      "text/plain": [
       "[datetime.date(2021, 1, 1),\n",
       " datetime.date(2021, 1, 14),\n",
       " datetime.date(2021, 1, 15),\n",
       " datetime.date(2021, 1, 16),\n",
       " datetime.date(2021, 1, 26),\n",
       " datetime.date(2021, 4, 1),\n",
       " datetime.date(2021, 4, 2),\n",
       " datetime.date(2021, 4, 13),\n",
       " datetime.date(2021, 4, 14),\n",
       " datetime.date(2021, 4, 25),\n",
       " datetime.date(2021, 5, 1),\n",
       " datetime.date(2021, 5, 14),\n",
       " datetime.date(2021, 7, 21),\n",
       " datetime.date(2021, 8, 15),\n",
       " datetime.date(2021, 8, 20),\n",
       " datetime.date(2021, 8, 30),\n",
       " datetime.date(2021, 9, 10),\n",
       " datetime.date(2021, 10, 2),\n",
       " datetime.date(2021, 10, 14),\n",
       " datetime.date(2021, 10, 15),\n",
       " datetime.date(2021, 10, 19),\n",
       " datetime.date(2021, 11, 4),\n",
       " datetime.date(2021, 12, 25)]"
      ]
     },
     "metadata": {},
     "execution_count": 28
    }
   ],
   "source": [
    "holiday_list"
   ]
  },
  {
   "cell_type": "code",
   "execution_count": 29,
   "metadata": {},
   "outputs": [
    {
     "output_type": "execute_result",
     "data": {
      "text/plain": [
       "False"
      ]
     },
     "metadata": {},
     "execution_count": 29
    }
   ],
   "source": [
    "date.today() in holiday_list"
   ]
  },
  {
   "cell_type": "code",
   "execution_count": null,
   "metadata": {},
   "outputs": [],
   "source": []
  }
 ],
 "metadata": {
  "kernelspec": {
   "name": "python3",
   "display_name": "Python 3.9.5 64-bit"
  },
  "language_info": {
   "codemirror_mode": {
    "name": "ipython",
    "version": 3
   },
   "file_extension": ".py",
   "mimetype": "text/x-python",
   "name": "python",
   "nbconvert_exporter": "python",
   "pygments_lexer": "ipython3",
   "version": "3.9.5"
  },
  "interpreter": {
   "hash": "ac59ebe37160ed0dfa835113d9b8498d9f09ceb179beaac4002f036b9467c963"
  }
 },
 "nbformat": 4,
 "nbformat_minor": 5
}